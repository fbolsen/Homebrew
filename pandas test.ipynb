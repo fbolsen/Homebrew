{
 "cells": [
  {
   "cell_type": "code",
   "execution_count": 1,
   "metadata": {
    "collapsed": true
   },
   "outputs": [],
   "source": [
    "import pandas as pd\n",
    "import random\n"
   ]
  },
  {
   "cell_type": "code",
   "execution_count": 2,
   "metadata": {},
   "outputs": [],
   "source": [
    "N=10\n",
    "\n",
    "x = pd.date_range(start='2018-03-11 18:00', periods=N, freq='60S').tolist()\n",
    "y = [random.random()]*N"
   ]
  },
  {
   "cell_type": "code",
   "execution_count": 17,
   "metadata": {},
   "outputs": [
    {
     "data": {
      "text/html": [
       "<div>\n",
       "<style>\n",
       "    .dataframe thead tr:only-child th {\n",
       "        text-align: right;\n",
       "    }\n",
       "\n",
       "    .dataframe thead th {\n",
       "        text-align: left;\n",
       "    }\n",
       "\n",
       "    .dataframe tbody tr th {\n",
       "        vertical-align: top;\n",
       "    }\n",
       "</style>\n",
       "<table border=\"1\" class=\"dataframe\">\n",
       "  <thead>\n",
       "    <tr style=\"text-align: right;\">\n",
       "      <th></th>\n",
       "      <th>time</th>\n",
       "      <th>temp</th>\n",
       "    </tr>\n",
       "  </thead>\n",
       "  <tbody>\n",
       "    <tr>\n",
       "      <th>0</th>\n",
       "      <td>2018-03-11 18:00:00</td>\n",
       "      <td>0.812378</td>\n",
       "    </tr>\n",
       "    <tr>\n",
       "      <th>1</th>\n",
       "      <td>2018-03-11 18:01:00</td>\n",
       "      <td>0.812378</td>\n",
       "    </tr>\n",
       "    <tr>\n",
       "      <th>2</th>\n",
       "      <td>2018-03-11 18:02:00</td>\n",
       "      <td>0.812378</td>\n",
       "    </tr>\n",
       "    <tr>\n",
       "      <th>3</th>\n",
       "      <td>2018-03-11 18:03:00</td>\n",
       "      <td>0.812378</td>\n",
       "    </tr>\n",
       "    <tr>\n",
       "      <th>4</th>\n",
       "      <td>2018-03-11 18:04:00</td>\n",
       "      <td>0.812378</td>\n",
       "    </tr>\n",
       "  </tbody>\n",
       "</table>\n",
       "</div>"
      ],
      "text/plain": [
       "<div>\n",
       "<style>\n",
       "    .dataframe thead tr:only-child th {\n",
       "        text-align: right;\n",
       "    }\n",
       "\n",
       "    .dataframe thead th {\n",
       "        text-align: left;\n",
       "    }\n",
       "\n",
       "    .dataframe tbody tr th {\n",
       "        vertical-align: top;\n",
       "    }\n",
       "</style>\n",
       "<table border=\"1\" class=\"dataframe\">\n",
       "  <thead>\n",
       "    <tr style=\"text-align: right;\">\n",
       "      <th></th>\n",
       "      <th>time</th>\n",
       "      <th>temp</th>\n",
       "    </tr>\n",
       "  </thead>\n",
       "  <tbody>\n",
       "    <tr>\n",
       "      <th>0</th>\n",
       "      <td>2018-03-11 18:00:00</td>\n",
       "      <td>0.812378</td>\n",
       "    </tr>\n",
       "    <tr>\n",
       "      <th>1</th>\n",
       "      <td>2018-03-11 18:01:00</td>\n",
       "      <td>0.812378</td>\n",
       "    </tr>\n",
       "    <tr>\n",
       "      <th>2</th>\n",
       "      <td>2018-03-11 18:02:00</td>\n",
       "      <td>0.812378</td>\n",
       "    </tr>\n",
       "    <tr>\n",
       "      <th>3</th>\n",
       "      <td>2018-03-11 18:03:00</td>\n",
       "      <td>0.812378</td>\n",
       "    </tr>\n",
       "    <tr>\n",
       "      <th>4</th>\n",
       "      <td>2018-03-11 18:04:00</td>\n",
       "      <td>0.812378</td>\n",
       "    </tr>\n",
       "  </tbody>\n",
       "</table>\n",
       "</div>"
      ]
     },
     "execution_count": 17,
     "metadata": {},
     "output_type": "execute_result"
    }
   ],
   "source": [
    "df = pd.DataFrame(columns=['time', 'temp'])\n",
    "df['time'] = x\n",
    "df['temp'] = y\n",
    "df.head()\n"
   ]
  },
  {
   "cell_type": "code",
   "execution_count": 18,
   "metadata": {},
   "outputs": [],
   "source": [
    "t = pd.to_datetime('2018-03-11 18:30')"
   ]
  },
  {
   "cell_type": "code",
   "execution_count": 22,
   "metadata": {},
   "outputs": [],
   "source": [
    "df_i = df.copy(deep=True)\n",
    "df_i.index = df['time']"
   ]
  },
  {
   "cell_type": "code",
   "execution_count": 23,
   "metadata": {},
   "outputs": [
    {
     "name": "stdout",
     "output_type": "stream",
     "text": [
      "                                   time      temp\ntime                                             \n2018-03-11 18:00:00 2018-03-11 18:00:00  0.812378\n2018-03-11 18:01:00 2018-03-11 18:01:00  0.812378\n2018-03-11 18:02:00 2018-03-11 18:02:00  0.812378\n2018-03-11 18:03:00 2018-03-11 18:03:00  0.812378\n2018-03-11 18:04:00 2018-03-11 18:04:00  0.812378\n2018-03-11 18:05:00 2018-03-11 18:05:00  0.812378\n2018-03-11 18:06:00 2018-03-11 18:06:00  0.812378\n2018-03-11 18:07:00 2018-03-11 18:07:00  0.812378\n2018-03-11 18:08:00 2018-03-11 18:08:00  0.812378\n2018-03-11 18:09:00 2018-03-11 18:09:00  0.812378\n"
     ]
    }
   ],
   "source": [
    "print(df_i)"
   ]
  },
  {
   "cell_type": "code",
   "execution_count": 24,
   "metadata": {},
   "outputs": [
    {
     "data": {
      "text/plain": [
       "[Timestamp('2018-03-11 18:30:00'), 25.0]"
      ]
     },
     "execution_count": 24,
     "metadata": {},
     "output_type": "execute_result"
    }
   ],
   "source": [
    "new_row = [t, 25.0]\n",
    "new_row\n"
   ]
  },
  {
   "cell_type": "code",
   "execution_count": 25,
   "metadata": {},
   "outputs": [
    {
     "name": "stdout",
     "output_type": "stream",
     "text": [
      "                                   time       temp\ntime                                              \n2018-03-11 18:00:00 2018-03-11 18:00:00   0.812378\n2018-03-11 18:01:00 2018-03-11 18:01:00   0.812378\n2018-03-11 18:02:00 2018-03-11 18:02:00   0.812378\n2018-03-11 18:03:00 2018-03-11 18:03:00   0.812378\n2018-03-11 18:04:00 2018-03-11 18:04:00   0.812378\n2018-03-11 18:05:00 2018-03-11 18:05:00   0.812378\n2018-03-11 18:06:00 2018-03-11 18:06:00   0.812378\n2018-03-11 18:07:00 2018-03-11 18:07:00   0.812378\n2018-03-11 18:08:00 2018-03-11 18:08:00   0.812378\n2018-03-11 18:09:00 2018-03-11 18:09:00   0.812378\n2018-03-11 18:30:00 2018-03-11 18:30:00  25.000000\n"
     ]
    }
   ],
   "source": [
    "df_i.loc[t] = new_row\n",
    "print(df_i)"
   ]
  },
  {
   "cell_type": "code",
   "execution_count": null,
   "metadata": {},
   "outputs": [],
   "source": []
  }
 ],
 "metadata": {
  "kernelspec": {
   "display_name": "Python 2",
   "language": "python",
   "name": "python2"
  },
  "language_info": {
   "codemirror_mode": {
    "name": "ipython",
    "version": 2
   },
   "file_extension": ".py",
   "mimetype": "text/x-python",
   "name": "python",
   "nbconvert_exporter": "python",
   "pygments_lexer": "ipython2",
   "version": "2.7.6"
  }
 },
 "nbformat": 4,
 "nbformat_minor": 0
}
